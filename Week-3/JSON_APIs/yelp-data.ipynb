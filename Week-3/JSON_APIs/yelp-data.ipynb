{
 "cells": [
  {
   "cell_type": "markdown",
   "metadata": {},
   "source": [
    "# Yelp API - Lab\n"
   ]
  },
  {
   "cell_type": "markdown",
   "metadata": {},
   "source": [
    "## Part 1 - Set up"
   ]
  },
  {
   "cell_type": "code",
   "execution_count": 1,
   "metadata": {},
   "outputs": [],
   "source": [
    "%load_ext autoreload\n",
    "%autoreload 2"
   ]
  },
  {
   "cell_type": "code",
   "execution_count": 2,
   "metadata": {},
   "outputs": [],
   "source": [
    "from utilities import *"
   ]
  },
  {
   "cell_type": "code",
   "execution_count": 3,
   "metadata": {},
   "outputs": [
    {
     "name": "stdout",
     "output_type": "stream",
     "text": [
      "3.6.6 |Anaconda, Inc.| (default, Jun 28 2018, 11:07:29) \n",
      "[GCC 4.2.1 Compatible Clang 4.0.1 (tags/RELEASE_401/final)]\n"
     ]
    }
   ],
   "source": [
    "import sys\n",
    "print(sys.version)"
   ]
  },
  {
   "cell_type": "code",
   "execution_count": 4,
   "metadata": {},
   "outputs": [
    {
     "name": "stdout",
     "output_type": "stream",
     "text": [
      "# packages in environment at /Users/rcharan/anaconda3/envs/learn-env:\r\n",
      "#\r\n",
      "# Name                    Version                   Build  Channel\r\n",
      "mysql-connector-c         6.1.11            had4e77e_1002    conda-forge\r\n",
      "mysql-connector-python    8.0.17           py36h7d2c6da_0    conda-forge\r\n"
     ]
    }
   ],
   "source": [
    "# Must by msql-connector-python 8.0.17\n",
    "!conda list mysql"
   ]
  },
  {
   "cell_type": "markdown",
   "metadata": {},
   "source": [
    "### Define a new schema, yelp\n",
    "\n",
    "Only run this once (aka never)"
   ]
  },
  {
   "cell_type": "code",
   "execution_count": 5,
   "metadata": {},
   "outputs": [],
   "source": [
    "# create_schema = '''CREATE SCHEMA yelp;'''\n",
    "# cnx, cur = get_cursor()\n",
    "# cursor.execute(create_schema)\n",
    "# cnx.close()"
   ]
  },
  {
   "cell_type": "markdown",
   "metadata": {},
   "source": [
    "## Part 2 -  Get Business Data\n",
    "\n",
    "Safe to run multiple times.\n",
    "Change reset to True to drop the table and re-pull from the API\n"
   ]
  },
  {
   "cell_type": "code",
   "execution_count": 6,
   "metadata": {},
   "outputs": [],
   "source": [
    "business_reset = False"
   ]
  },
  {
   "cell_type": "markdown",
   "metadata": {},
   "source": [
    "Drop and rebuild the table"
   ]
  },
  {
   "cell_type": "code",
   "execution_count": 7,
   "metadata": {},
   "outputs": [
    {
     "name": "stdout",
     "output_type": "stream",
     "text": [
      "Warning: this didn't do anything\n"
     ]
    }
   ],
   "source": [
    "business_table = '''\n",
    "    CREATE TABLE IF NOT EXISTS yelp.business (\n",
    "          table_id            int\n",
    "                              NOT NULL\n",
    "                              UNIQUE\n",
    "                              AUTO_INCREMENT\n",
    "                              PRIMARY KEY                  ,\n",
    "\n",
    "          yelp_id             varchar(200)                 ,\n",
    "          alias               varchar(200)                 ,\n",
    "          name                varchar(200)                 ,\n",
    "          review_count        int                          ,\n",
    "          rating              int                          ,\n",
    "          location_address1   varchar(200)                 ,\n",
    "          location_address2   varchar(200)                 ,\n",
    "          location_address3   varchar(200)                 ,\n",
    "          location_city       varchar(200)                 ,\n",
    "          location_zip_code   varchar( 10)                 ,\n",
    "          location_country    varchar(200)                 ,\n",
    "          location_state      varchar(200)                 ,\n",
    "          price               float\n",
    "    )  ENGINE=INNODB;\n",
    "'''\n",
    "\n",
    "if business_reset:\n",
    "    cnx, cursor = get_cursor()\n",
    "    try:\n",
    "        cursor.execute('''DROP TABLE IF EXISTS yelp.business;''')\n",
    "        cursor.execute(business_table)\n",
    "    except:\n",
    "        cnx.close()\n",
    "        print('Warning: failure to reset table')\n",
    "        raise\n",
    "else:\n",
    "    print('''Warning: this didn't do anything''')\n"
   ]
  },
  {
   "cell_type": "markdown",
   "metadata": {},
   "source": [
    "Get the data from the API"
   ]
  },
  {
   "cell_type": "code",
   "execution_count": 1,
   "metadata": {},
   "outputs": [],
   "source": [
    "# URL Parameter Builder\n",
    "def package_business_request(term = 'mediterranean', \n",
    "                             location = 'chelsea, NY',\n",
    "                             limit = 50,\n",
    "                             offset = 0):\n",
    "    return {'term'     : term,\n",
    "            'location' : location,\n",
    "            'limit'    : limit,\n",
    "            'offset'   : offset}\n",
    "business_search_params_builder = lambda offset : package_business_request(offset = offset)\n",
    "\n",
    "# Yelp API Endpoint for Business Search\n",
    "businesses_url = 'https://api.yelp.com/v3/businesses/search'"
   ]
  },
  {
   "cell_type": "code",
   "execution_count": 9,
   "metadata": {},
   "outputs": [
    {
     "name": "stdout",
     "output_type": "stream",
     "text": [
      "Warning: this didn't do anything\n"
     ]
    }
   ],
   "source": [
    "# Repeatedly call the API. On failure, error_return and error_df are returned for traceback\n",
    "if business_reset:\n",
    "    error_return = None\n",
    "    error_return = all_results(businesses_url, business_search_params_builder,\n",
    "                               parse_business_response, config.api_key,\n",
    "                               yelp_call, 'business', 'yelp', offset = 0, \n",
    "                               recovery = error_return)\n",
    "\n",
    "    if isinstance(error_return, tuple):\n",
    "        error_df     = error_return[1]\n",
    "        error_return = error_return[0]\n",
    "else:\n",
    "    print('''Warning: this didn't do anything''')"
   ]
  },
  {
   "cell_type": "markdown",
   "metadata": {},
   "source": [
    "## Part 3: Get Reviews Data"
   ]
  },
  {
   "cell_type": "code",
   "execution_count": 10,
   "metadata": {},
   "outputs": [],
   "source": [
    "yelp_reset = False"
   ]
  },
  {
   "cell_type": "code",
   "execution_count": 11,
   "metadata": {},
   "outputs": [
    {
     "name": "stdout",
     "output_type": "stream",
     "text": [
      "Warning: this didn't do anything\n"
     ]
    }
   ],
   "source": [
    "review_table = '''\n",
    "    CREATE TABLE IF NOT EXISTS yelp.reviews (\n",
    "          table_id            int\n",
    "                              NOT NULL\n",
    "                              UNIQUE\n",
    "                              AUTO_INCREMENT\n",
    "                              PRIMARY KEY                  ,\n",
    "          business_id         int                          ,\n",
    "          review_yelp_id      varchar(200)                 ,\n",
    "          rating              varchar(200)                 ,\n",
    "          text                varchar(200)                 ,\n",
    "          time_created        datetime                     ,\n",
    "          FOREIGN KEY (business_id) \n",
    "            REFERENCES yelp.business(table_id)\n",
    "            ON DELETE CASCADE\n",
    "            ON UPDATE CASCADE\n",
    "    )  ENGINE=INNODB;\n",
    "'''\n",
    "\n",
    "if yelp_reset:\n",
    "    cnx, cursor = get_cursor()\n",
    "    try:\n",
    "        cursor.execute('''DROP TABLE IF EXISTS yelp.reviews;''')\n",
    "        cursor.execute(review_table)\n",
    "        print('yelp.reviews reset')\n",
    "    except:\n",
    "        cnx.close()\n",
    "        print('Warning: failure to reset table')\n",
    "        raise\n",
    "else:\n",
    "    print('''Warning: this didn't do anything''')\n"
   ]
  },
  {
   "cell_type": "code",
   "execution_count": 14,
   "metadata": {},
   "outputs": [
    {
     "name": "stdout",
     "output_type": "stream",
     "text": [
      "271 businesses detected\n",
      "271 businesses with reviews already detected\n",
      "Collecting Yelp reviews for any remaining businesses.\n",
      "This could take a while if there are many remaining\n"
     ]
    }
   ],
   "source": [
    "get_reviews()"
   ]
  },
  {
   "cell_type": "markdown",
   "metadata": {},
   "source": [
    "## Part 4: Write SQL queries that will answer the questions posed. "
   ]
  },
  {
   "cell_type": "code",
   "execution_count": 27,
   "metadata": {},
   "outputs": [],
   "source": [
    "conn = get_connection()\n",
    "query = querier_maker(conn)"
   ]
  },
  {
   "cell_type": "markdown",
   "metadata": {},
   "source": [
    "- Which are the 5 most reviewed businesses?"
   ]
  },
  {
   "cell_type": "code",
   "execution_count": 17,
   "metadata": {},
   "outputs": [
    {
     "data": {
      "text/html": [
       "<div>\n",
       "<style scoped>\n",
       "    .dataframe tbody tr th:only-of-type {\n",
       "        vertical-align: middle;\n",
       "    }\n",
       "\n",
       "    .dataframe tbody tr th {\n",
       "        vertical-align: top;\n",
       "    }\n",
       "\n",
       "    .dataframe thead th {\n",
       "        text-align: right;\n",
       "    }\n",
       "</style>\n",
       "<table border=\"1\" class=\"dataframe\">\n",
       "  <thead>\n",
       "    <tr style=\"text-align: right;\">\n",
       "      <th></th>\n",
       "      <th>table_id</th>\n",
       "      <th>yelp_id</th>\n",
       "      <th>alias</th>\n",
       "      <th>name</th>\n",
       "      <th>review_count</th>\n",
       "      <th>rating</th>\n",
       "      <th>location_address1</th>\n",
       "      <th>location_address2</th>\n",
       "      <th>location_address3</th>\n",
       "      <th>location_city</th>\n",
       "      <th>location_zip_code</th>\n",
       "      <th>location_country</th>\n",
       "      <th>location_state</th>\n",
       "      <th>price</th>\n",
       "    </tr>\n",
       "  </thead>\n",
       "  <tbody>\n",
       "    <tr>\n",
       "      <td>0</td>\n",
       "      <td>124</td>\n",
       "      <td>xEnNFXtMLDF5kZDxfaCJgA</td>\n",
       "      <td>the-halal-guys-new-york-2</td>\n",
       "      <td>The Halal Guys</td>\n",
       "      <td>9270</td>\n",
       "      <td>4</td>\n",
       "      <td>W 53rd St 6th Ave</td>\n",
       "      <td>None</td>\n",
       "      <td>None</td>\n",
       "      <td>New York</td>\n",
       "      <td>10019</td>\n",
       "      <td>US</td>\n",
       "      <td>NY</td>\n",
       "      <td>1.0</td>\n",
       "    </tr>\n",
       "    <tr>\n",
       "      <td>1</td>\n",
       "      <td>132</td>\n",
       "      <td>L-IuiVoFMDSw2K6OAciP1g</td>\n",
       "      <td>mamouns-falafel-new-york-2</td>\n",
       "      <td>Mamoun's Falafel</td>\n",
       "      <td>2353</td>\n",
       "      <td>4</td>\n",
       "      <td>119 MacDougal St</td>\n",
       "      <td>None</td>\n",
       "      <td>None</td>\n",
       "      <td>New York</td>\n",
       "      <td>10012</td>\n",
       "      <td>US</td>\n",
       "      <td>NY</td>\n",
       "      <td>1.0</td>\n",
       "    </tr>\n",
       "    <tr>\n",
       "      <td>2</td>\n",
       "      <td>3</td>\n",
       "      <td>B55Ocx5RBWxo6AGSucYSIA</td>\n",
       "      <td>ilili-new-york-2</td>\n",
       "      <td>ilili</td>\n",
       "      <td>2337</td>\n",
       "      <td>4</td>\n",
       "      <td>236 5th Ave</td>\n",
       "      <td>None</td>\n",
       "      <td>None</td>\n",
       "      <td>New York</td>\n",
       "      <td>10001</td>\n",
       "      <td>US</td>\n",
       "      <td>NY</td>\n",
       "      <td>3.0</td>\n",
       "    </tr>\n",
       "    <tr>\n",
       "      <td>3</td>\n",
       "      <td>214</td>\n",
       "      <td>bRPq-Nmct5bOuOtsu8fC7Q</td>\n",
       "      <td>smac-new-york</td>\n",
       "      <td>S'MAC</td>\n",
       "      <td>2156</td>\n",
       "      <td>4</td>\n",
       "      <td>197 1st Ave</td>\n",
       "      <td>None</td>\n",
       "      <td>None</td>\n",
       "      <td>New York</td>\n",
       "      <td>10003</td>\n",
       "      <td>US</td>\n",
       "      <td>NY</td>\n",
       "      <td>2.0</td>\n",
       "    </tr>\n",
       "    <tr>\n",
       "      <td>4</td>\n",
       "      <td>43</td>\n",
       "      <td>XEugUtbw4rRmGr9S1XA-aQ</td>\n",
       "      <td>alta-new-york</td>\n",
       "      <td>Alta</td>\n",
       "      <td>1857</td>\n",
       "      <td>4</td>\n",
       "      <td>64 W 10th St</td>\n",
       "      <td>None</td>\n",
       "      <td>None</td>\n",
       "      <td>New York</td>\n",
       "      <td>10011</td>\n",
       "      <td>US</td>\n",
       "      <td>NY</td>\n",
       "      <td>3.0</td>\n",
       "    </tr>\n",
       "  </tbody>\n",
       "</table>\n",
       "</div>"
      ],
      "text/plain": [
       "   table_id                 yelp_id                       alias  \\\n",
       "0       124  xEnNFXtMLDF5kZDxfaCJgA   the-halal-guys-new-york-2   \n",
       "1       132  L-IuiVoFMDSw2K6OAciP1g  mamouns-falafel-new-york-2   \n",
       "2         3  B55Ocx5RBWxo6AGSucYSIA            ilili-new-york-2   \n",
       "3       214  bRPq-Nmct5bOuOtsu8fC7Q               smac-new-york   \n",
       "4        43  XEugUtbw4rRmGr9S1XA-aQ               alta-new-york   \n",
       "\n",
       "               name  review_count  rating  location_address1  \\\n",
       "0    The Halal Guys          9270       4  W 53rd St 6th Ave   \n",
       "1  Mamoun's Falafel          2353       4   119 MacDougal St   \n",
       "2             ilili          2337       4        236 5th Ave   \n",
       "3             S'MAC          2156       4        197 1st Ave   \n",
       "4              Alta          1857       4       64 W 10th St   \n",
       "\n",
       "  location_address2 location_address3 location_city location_zip_code  \\\n",
       "0              None              None      New York             10019   \n",
       "1              None              None      New York             10012   \n",
       "2              None              None      New York             10001   \n",
       "3              None              None      New York             10003   \n",
       "4              None              None      New York             10011   \n",
       "\n",
       "  location_country location_state  price  \n",
       "0               US             NY    1.0  \n",
       "1               US             NY    1.0  \n",
       "2               US             NY    3.0  \n",
       "3               US             NY    2.0  \n",
       "4               US             NY    3.0  "
      ]
     },
     "execution_count": 17,
     "metadata": {},
     "output_type": "execute_result"
    }
   ],
   "source": [
    "query('''\n",
    "    SELECT\n",
    "      *\n",
    "    FROM\n",
    "      yelp.business\n",
    "    ORDER BY\n",
    "      review_count DESC\n",
    "    LIMIT\n",
    "      5\n",
    "''')"
   ]
  },
  {
   "cell_type": "markdown",
   "metadata": {},
   "source": [
    "- What is the highest rating recieved in your data set and how many businesses have that rating?"
   ]
  },
  {
   "cell_type": "code",
   "execution_count": 23,
   "metadata": {},
   "outputs": [
    {
     "data": {
      "text/html": [
       "<div>\n",
       "<style scoped>\n",
       "    .dataframe tbody tr th:only-of-type {\n",
       "        vertical-align: middle;\n",
       "    }\n",
       "\n",
       "    .dataframe tbody tr th {\n",
       "        vertical-align: top;\n",
       "    }\n",
       "\n",
       "    .dataframe thead th {\n",
       "        text-align: right;\n",
       "    }\n",
       "</style>\n",
       "<table border=\"1\" class=\"dataframe\">\n",
       "  <thead>\n",
       "    <tr style=\"text-align: right;\">\n",
       "      <th></th>\n",
       "      <th>max_rating</th>\n",
       "      <th>count_max_rating</th>\n",
       "    </tr>\n",
       "  </thead>\n",
       "  <tbody>\n",
       "    <tr>\n",
       "      <td>0</td>\n",
       "      <td>5</td>\n",
       "      <td>42</td>\n",
       "    </tr>\n",
       "  </tbody>\n",
       "</table>\n",
       "</div>"
      ],
      "text/plain": [
       "   max_rating  count_max_rating\n",
       "0           5                42"
      ]
     },
     "execution_count": 23,
     "metadata": {},
     "output_type": "execute_result"
    }
   ],
   "source": [
    "query('''\n",
    "    SELECT\n",
    "      MAX(rating) as max_rating,\n",
    "      COUNT(*)    as count_max_rating\n",
    "    FROM\n",
    "        (SELECT\n",
    "          *,\n",
    "          RANK() OVER (ORDER BY rating DESC) AS rating_rank\n",
    "        FROM\n",
    "          yelp.business) ranked\n",
    "    WHERE\n",
    "      rating_rank = 1\n",
    "''')"
   ]
  },
  {
   "cell_type": "markdown",
   "metadata": {},
   "source": [
    "- What percentage of businesses have a rating greater than or  4.5?"
   ]
  },
  {
   "cell_type": "markdown",
   "metadata": {},
   "source": [
    "- What percentage of businesses have a rating less than 3?"
   ]
  },
  {
   "cell_type": "markdown",
   "metadata": {},
   "source": [
    "- What is the average rating of restaurants that have a price label of one dollar sign? Two dollar signs? Three dollar signs? "
   ]
  },
  {
   "cell_type": "code",
   "execution_count": 33,
   "metadata": {},
   "outputs": [
    {
     "data": {
      "text/html": [
       "<div>\n",
       "<style scoped>\n",
       "    .dataframe tbody tr th:only-of-type {\n",
       "        vertical-align: middle;\n",
       "    }\n",
       "\n",
       "    .dataframe tbody tr th {\n",
       "        vertical-align: top;\n",
       "    }\n",
       "\n",
       "    .dataframe thead th {\n",
       "        text-align: right;\n",
       "    }\n",
       "</style>\n",
       "<table border=\"1\" class=\"dataframe\">\n",
       "  <thead>\n",
       "    <tr style=\"text-align: right;\">\n",
       "      <th></th>\n",
       "      <th>price</th>\n",
       "      <th>average_rating_by_price</th>\n",
       "    </tr>\n",
       "  </thead>\n",
       "  <tbody>\n",
       "    <tr>\n",
       "      <td>0</td>\n",
       "      <td>NaN</td>\n",
       "      <td>4.0851</td>\n",
       "    </tr>\n",
       "    <tr>\n",
       "      <td>1</td>\n",
       "      <td>1.0</td>\n",
       "      <td>3.9608</td>\n",
       "    </tr>\n",
       "    <tr>\n",
       "      <td>2</td>\n",
       "      <td>2.0</td>\n",
       "      <td>3.8406</td>\n",
       "    </tr>\n",
       "    <tr>\n",
       "      <td>3</td>\n",
       "      <td>3.0</td>\n",
       "      <td>4.0882</td>\n",
       "    </tr>\n",
       "    <tr>\n",
       "      <td>4</td>\n",
       "      <td>4.0</td>\n",
       "      <td>4.0000</td>\n",
       "    </tr>\n",
       "  </tbody>\n",
       "</table>\n",
       "</div>"
      ],
      "text/plain": [
       "   price  average_rating_by_price\n",
       "0    NaN                   4.0851\n",
       "1    1.0                   3.9608\n",
       "2    2.0                   3.8406\n",
       "3    3.0                   4.0882\n",
       "4    4.0                   4.0000"
      ]
     },
     "execution_count": 33,
     "metadata": {},
     "output_type": "execute_result"
    }
   ],
   "source": [
    "query('''\n",
    "SELECT\n",
    "  price,\n",
    "  AVG(rating) AS average_rating_by_price\n",
    "FROM\n",
    "  yelp.business\n",
    "GROUP BY\n",
    "  price\n",
    "ORDER BY price\n",
    "''')"
   ]
  },
  {
   "cell_type": "markdown",
   "metadata": {},
   "source": [
    "- Return the text of the reviews for the most reviewed restaurant. "
   ]
  },
  {
   "cell_type": "code",
   "execution_count": 46,
   "metadata": {},
   "outputs": [],
   "source": [
    "review_texts = query('''\n",
    "SELECT name, review_count, text, rating, time_created FROM\n",
    "(\n",
    "(SELECT name, table_id, review_count FROM yelp.business ORDER BY review_count DESC LIMIT 1) biz\n",
    "LEFT JOIN\n",
    "(SELECT * FROM yelp.reviews) rev\n",
    "ON\n",
    "biz.table_id = rev.business_id\n",
    ")''')"
   ]
  },
  {
   "cell_type": "code",
   "execution_count": 49,
   "metadata": {},
   "outputs": [
    {
     "data": {
      "text/plain": [
       "[\"What more needs to be said?  This place is fan-fucking-tastic.  I've eaten all over New York City, yet no meal was nearly as satisfying as when I waited in...\",\n",
       " \"I'm so annoyed and disappointed. Make sure you use PLENTY of white sauce because you will need something to make this bland food edible. Where's the flavor?...\",\n",
       " 'As someone who loves Halal carts, on my most recent trip to NYC I knew I had to make the pilgrimage to the original location: The Halal Guys.  One night, we...']"
      ]
     },
     "execution_count": 49,
     "metadata": {},
     "output_type": "execute_result"
    }
   ],
   "source": [
    "review_texts.text.tolist()"
   ]
  },
  {
   "cell_type": "markdown",
   "metadata": {},
   "source": [
    "- Return the name of the business with the most recent review. "
   ]
  },
  {
   "cell_type": "code",
   "execution_count": 53,
   "metadata": {},
   "outputs": [
    {
     "data": {
      "text/html": [
       "<div>\n",
       "<style scoped>\n",
       "    .dataframe tbody tr th:only-of-type {\n",
       "        vertical-align: middle;\n",
       "    }\n",
       "\n",
       "    .dataframe tbody tr th {\n",
       "        vertical-align: top;\n",
       "    }\n",
       "\n",
       "    .dataframe thead th {\n",
       "        text-align: right;\n",
       "    }\n",
       "</style>\n",
       "<table border=\"1\" class=\"dataframe\">\n",
       "  <thead>\n",
       "    <tr style=\"text-align: right;\">\n",
       "      <th></th>\n",
       "      <th>name</th>\n",
       "    </tr>\n",
       "  </thead>\n",
       "  <tbody>\n",
       "    <tr>\n",
       "      <td>0</td>\n",
       "      <td>Kwik Meal</td>\n",
       "    </tr>\n",
       "  </tbody>\n",
       "</table>\n",
       "</div>"
      ],
      "text/plain": [
       "        name\n",
       "0  Kwik Meal"
      ]
     },
     "execution_count": 53,
     "metadata": {},
     "output_type": "execute_result"
    }
   ],
   "source": [
    "query('''\n",
    "SELECT name FROM\n",
    "(\n",
    "(SELECT * FROM yelp.reviews ORDER BY time_created DESC LIMIT 1) top_rev\n",
    "LEFT JOIN\n",
    "(SELECT * FROM yelp.business)  biz\n",
    "ON\n",
    "top_rev.business_id = biz.table_id\n",
    ")\n",
    "''')"
   ]
  },
  {
   "cell_type": "markdown",
   "metadata": {},
   "source": [
    "- Find the highest rated business and return text of the most recent review. If multiple business have the same rating, select the restaurant with the most reviews. "
   ]
  },
  {
   "cell_type": "code",
   "execution_count": 58,
   "metadata": {},
   "outputs": [
    {
     "data": {
      "text/html": [
       "<div>\n",
       "<style scoped>\n",
       "    .dataframe tbody tr th:only-of-type {\n",
       "        vertical-align: middle;\n",
       "    }\n",
       "\n",
       "    .dataframe tbody tr th {\n",
       "        vertical-align: top;\n",
       "    }\n",
       "\n",
       "    .dataframe thead th {\n",
       "        text-align: right;\n",
       "    }\n",
       "</style>\n",
       "<table border=\"1\" class=\"dataframe\">\n",
       "  <thead>\n",
       "    <tr style=\"text-align: right;\">\n",
       "      <th></th>\n",
       "      <th>name</th>\n",
       "      <th>review_count</th>\n",
       "      <th>text</th>\n",
       "      <th>time_created</th>\n",
       "    </tr>\n",
       "  </thead>\n",
       "  <tbody>\n",
       "    <tr>\n",
       "      <td>0</td>\n",
       "      <td>Taim West Village</td>\n",
       "      <td>1507</td>\n",
       "      <td>I came here for dinner with a friend as we wan...</td>\n",
       "      <td>2019-09-23 07:55:12</td>\n",
       "    </tr>\n",
       "  </tbody>\n",
       "</table>\n",
       "</div>"
      ],
      "text/plain": [
       "                name  review_count  \\\n",
       "0  Taim West Village          1507   \n",
       "\n",
       "                                                text        time_created  \n",
       "0  I came here for dinner with a friend as we wan... 2019-09-23 07:55:12  "
      ]
     },
     "execution_count": 58,
     "metadata": {},
     "output_type": "execute_result"
    }
   ],
   "source": [
    "query('''\n",
    "SELECT name, review_count, text, time_created FROM\n",
    "(\n",
    "(SELECT * FROM yelp.business ORDER BY rating DESC, review_count DESC LIMIT 1) biz\n",
    "LEFT JOIN\n",
    "(SELECT * FROM yelp.reviews) rev\n",
    "ON\n",
    "biz.table_id = rev.business_id\n",
    ")\n",
    "ORDER BY time_created DESC\n",
    "LIMIT 1\n",
    "''')"
   ]
  },
  {
   "cell_type": "markdown",
   "metadata": {},
   "source": [
    "- Find the lowest rated business and return text of the most recent review.  If multiple business have the same rating, select the restaurant with the least reviews. "
   ]
  },
  {
   "cell_type": "code",
   "execution_count": 59,
   "metadata": {},
   "outputs": [
    {
     "data": {
      "text/html": [
       "<div>\n",
       "<style scoped>\n",
       "    .dataframe tbody tr th:only-of-type {\n",
       "        vertical-align: middle;\n",
       "    }\n",
       "\n",
       "    .dataframe tbody tr th {\n",
       "        vertical-align: top;\n",
       "    }\n",
       "\n",
       "    .dataframe thead th {\n",
       "        text-align: right;\n",
       "    }\n",
       "</style>\n",
       "<table border=\"1\" class=\"dataframe\">\n",
       "  <thead>\n",
       "    <tr style=\"text-align: right;\">\n",
       "      <th></th>\n",
       "      <th>name</th>\n",
       "      <th>review_count</th>\n",
       "      <th>text</th>\n",
       "      <th>time_created</th>\n",
       "    </tr>\n",
       "  </thead>\n",
       "  <tbody>\n",
       "    <tr>\n",
       "      <td>0</td>\n",
       "      <td>Ora Restaurant</td>\n",
       "      <td>1</td>\n",
       "      <td>I can't recall how I found or why I booked Ora...</td>\n",
       "      <td>2006-10-13 21:04:39</td>\n",
       "    </tr>\n",
       "  </tbody>\n",
       "</table>\n",
       "</div>"
      ],
      "text/plain": [
       "             name  review_count  \\\n",
       "0  Ora Restaurant             1   \n",
       "\n",
       "                                                text        time_created  \n",
       "0  I can't recall how I found or why I booked Ora... 2006-10-13 21:04:39  "
      ]
     },
     "execution_count": 59,
     "metadata": {},
     "output_type": "execute_result"
    }
   ],
   "source": [
    "query('''\n",
    "SELECT name, review_count, text, time_created FROM\n",
    "(\n",
    "(SELECT * FROM yelp.business ORDER BY rating ASC, review_count ASC LIMIT 1) biz\n",
    "LEFT JOIN\n",
    "(SELECT * FROM yelp.reviews) rev\n",
    "ON\n",
    "biz.table_id = rev.business_id\n",
    ")\n",
    "ORDER BY time_created DESC\n",
    "LIMIT 1\n",
    "''')"
   ]
  },
  {
   "cell_type": "markdown",
   "metadata": {},
   "source": [
    "### Using DB:\n",
    "    \n",
    "For this lab, you can either store the data on one DB or put in on both of the partners DBs. If you decide to put it on one DB, you want to make sure both partners have access to it.  To do this you want to add a user to your DB.  \n",
    "\n",
    "[how to add a new user](https://howchoo.com/g/mtm3zdq2nzv/how-to-add-a-mysql-user-and-grant-privileges)"
   ]
  }
 ],
 "metadata": {
  "kernelspec": {
   "display_name": "Python 3",
   "language": "python",
   "name": "python3"
  },
  "language_info": {
   "codemirror_mode": {
    "name": "ipython",
    "version": 3
   },
   "file_extension": ".py",
   "mimetype": "text/x-python",
   "name": "python",
   "nbconvert_exporter": "python",
   "pygments_lexer": "ipython3",
   "version": "3.6.6"
  },
  "toc": {
   "base_numbering": 1,
   "nav_menu": {},
   "number_sections": false,
   "sideBar": true,
   "skip_h1_title": false,
   "title_cell": "Table of Contents",
   "title_sidebar": "Contents",
   "toc_cell": false,
   "toc_position": {},
   "toc_section_display": true,
   "toc_window_display": false
  }
 },
 "nbformat": 4,
 "nbformat_minor": 2
}
