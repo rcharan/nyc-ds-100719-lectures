{
 "cells": [
  {
   "cell_type": "markdown",
   "metadata": {},
   "source": [
    "# Yelp API - Lab\n"
   ]
  },
  {
   "cell_type": "markdown",
   "metadata": {},
   "source": [
    "## Part 1 - Set up"
   ]
  },
  {
   "cell_type": "code",
   "execution_count": 13,
   "metadata": {},
   "outputs": [
    {
     "name": "stdout",
     "output_type": "stream",
     "text": [
      "The autoreload extension is already loaded. To reload it, use:\n",
      "  %reload_ext autoreload\n"
     ]
    }
   ],
   "source": [
    "%load_ext autoreload\n",
    "%autoreload 2"
   ]
  },
  {
   "cell_type": "code",
   "execution_count": 35,
   "metadata": {},
   "outputs": [],
   "source": [
    "import sqlalchemy\n",
    "import config\n",
    "config.database = 'yelp'"
   ]
  },
  {
   "cell_type": "code",
   "execution_count": 39,
   "metadata": {},
   "outputs": [],
   "source": [
    "sql_alchemy_connection = f'''mysql+mysqlconnector://{config.user}:{config.password}@{config.host}:{config.port}/{config.database}'''\n",
    "\n",
    "db = sqlalchemy.create_engine(sql_alchemy_connection, echo = False, connect_args = {'ssl_disabled' : True})"
   ]
  },
  {
   "cell_type": "markdown",
   "metadata": {},
   "source": [
    "### Define a new schema, yelp\n",
    "\n",
    "Only run this once (aka never)"
   ]
  },
  {
   "cell_type": "code",
   "execution_count": 37,
   "metadata": {},
   "outputs": [],
   "source": [
    "# create_schema = '''CREATE SCHEMA yelp;'''"
   ]
  },
  {
   "cell_type": "markdown",
   "metadata": {},
   "source": [
    "## Part 2 -  Get Business Data\n",
    "\n",
    "Safe to run multiple times.\n",
    "Change reset to True to drop the table and re-pull from the API\n"
   ]
  },
  {
   "cell_type": "code",
   "execution_count": 30,
   "metadata": {},
   "outputs": [],
   "source": [
    "business_table = '''\n",
    "    CREATE TABLE IF NOT EXISTS yelp.business_alchemy (\n",
    "          table_id            int\n",
    "                              NOT NULL\n",
    "                              UNIQUE\n",
    "                              AUTO_INCREMENT\n",
    "                              PRIMARY KEY                  ,\n",
    "\n",
    "          yelp_id             varchar(200)                 ,\n",
    "          alias               varchar(200)                 ,\n",
    "          name                varchar(200)                 ,\n",
    "          review_count        int                          ,\n",
    "          rating              int                          ,\n",
    "          location_address1   varchar(200)                 ,\n",
    "          location_address2   varchar(200)                 ,\n",
    "          location_address3   varchar(200)                 ,\n",
    "          location_city       varchar(200)                 ,\n",
    "          location_zip_code   varchar( 10)                 ,\n",
    "          location_country    varchar(200)                 ,\n",
    "          location_state      varchar(200)                 ,\n",
    "          price               float\n",
    "    )  ENGINE=INNODB;\n",
    "'''"
   ]
  },
  {
   "cell_type": "code",
   "execution_count": 40,
   "metadata": {},
   "outputs": [],
   "source": [
    "# with db.connect() as conn:\n",
    "#     conn.execute('''DROP TABLE IF EXISTS yelp.business_alchemy''')\n",
    "#     conn.execute(business_table)"
   ]
  },
  {
   "cell_type": "code",
   "execution_count": 41,
   "metadata": {},
   "outputs": [],
   "source": [
    "# URL Parameter Builder\n",
    "def package_business_request(term = 'mediterranean', \n",
    "                             location = 'chelsea, NY',\n",
    "                             limit = 50,\n",
    "                             offset = 0):\n",
    "    return {'term'     : term,\n",
    "            'location' : location,\n",
    "            'limit'    : limit,\n",
    "            'offset'   : offset}\n",
    "business_search_params_builder = lambda offset : package_business_request(offset = offset)\n",
    "\n",
    "# Yelp API Endpoint for Business Search\n",
    "businesses_url = 'https://api.yelp.com/v3/businesses/search'"
   ]
  },
  {
   "cell_type": "code",
   "execution_count": 43,
   "metadata": {},
   "outputs": [],
   "source": [
    "import utilities"
   ]
  },
  {
   "cell_type": "code",
   "execution_count": 46,
   "metadata": {},
   "outputs": [],
   "source": [
    "response = utilities.yelp_call(businesses_url, business_search_params_builder(0), config.api_key)"
   ]
  },
  {
   "cell_type": "code",
   "execution_count": 47,
   "metadata": {
    "collapsed": true
   },
   "outputs": [],
   "source": [
    "df = utilities.parse_business_response(response)"
   ]
  },
  {
   "cell_type": "code",
   "execution_count": 52,
   "metadata": {},
   "outputs": [],
   "source": [
    "df.to_sql('business_alchemy', engine, if_exists = 'append', index = False)"
   ]
  },
  {
   "cell_type": "code",
   "execution_count": 53,
   "metadata": {},
   "outputs": [],
   "source": [
    "df.to_sql('business_alchemy_new', engine, if_exists = 'append', index = False)"
   ]
  },
  {
   "cell_type": "code",
   "execution_count": null,
   "metadata": {},
   "outputs": [],
   "source": []
  }
 ],
 "metadata": {
  "kernelspec": {
   "display_name": "Python 3",
   "language": "python",
   "name": "python3"
  },
  "language_info": {
   "codemirror_mode": {
    "name": "ipython",
    "version": 3
   },
   "file_extension": ".py",
   "mimetype": "text/x-python",
   "name": "python",
   "nbconvert_exporter": "python",
   "pygments_lexer": "ipython3",
   "version": "3.7.3"
  },
  "toc": {
   "base_numbering": 1,
   "nav_menu": {},
   "number_sections": false,
   "sideBar": true,
   "skip_h1_title": false,
   "title_cell": "Table of Contents",
   "title_sidebar": "Contents",
   "toc_cell": false,
   "toc_position": {},
   "toc_section_display": true,
   "toc_window_display": false
  }
 },
 "nbformat": 4,
 "nbformat_minor": 2
}
